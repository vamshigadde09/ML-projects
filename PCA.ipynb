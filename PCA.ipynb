{
 "cells": [
  {
   "cell_type": "code",
   "execution_count": 1,
   "id": "52efebc3",
   "metadata": {},
   "outputs": [],
   "source": [
    "# Import necessary libraries\n",
    "import pandas as pd\n",
    "from sklearn.preprocessing import StandardScaler\n",
    "from sklearn.decomposition import PCA"
   ]
  },
  {
   "cell_type": "code",
   "execution_count": 2,
   "id": "55957759",
   "metadata": {},
   "outputs": [],
   "source": [
    "df = pd.read_csv('diabetes.csv')"
   ]
  },
  {
   "cell_type": "code",
   "execution_count": 3,
   "id": "2420ff0a",
   "metadata": {},
   "outputs": [],
   "source": [
    "numeric_features = df.drop('Outcome', axis=1).select_dtypes(include=[int, float])\n"
   ]
  },
  {
   "cell_type": "code",
   "execution_count": 4,
   "id": "b5ee3211",
   "metadata": {},
   "outputs": [],
   "source": [
    "# Standardize the numeric features (mean=0, std=1)\n",
    "scaler = StandardScaler()\n",
    "scaled_features = scaler.fit_transform(numeric_features)"
   ]
  },
  {
   "cell_type": "code",
   "execution_count": 5,
   "id": "7ef1ab72",
   "metadata": {},
   "outputs": [],
   "source": [
    "# Apply PCA\n",
    "pca = PCA(n_components=2)  \n",
    "# We can choose the number of components you want to keep\n",
    "principal_components = pca.fit_transform(scaled_features)"
   ]
  },
  {
   "cell_type": "code",
   "execution_count": 6,
   "id": "22f11ef5",
   "metadata": {},
   "outputs": [],
   "source": [
    "# Create a DataFrame with the principal components\n",
    "principal_df = pd.DataFrame(data=principal_components, columns=['PC1', 'PC2'])\n"
   ]
  },
  {
   "cell_type": "code",
   "execution_count": 7,
   "id": "f7cb3490",
   "metadata": {},
   "outputs": [],
   "source": [
    "# Concatenate the principal components with the target variable\n",
    "final_df = pd.concat([principal_df, df['Outcome']], axis=1)"
   ]
  },
  {
   "cell_type": "code",
   "execution_count": 8,
   "id": "b1947792",
   "metadata": {},
   "outputs": [
    {
     "name": "stdout",
     "output_type": "stream",
     "text": [
      "          PC1       PC2  Outcome\n",
      "0    1.068503  1.234895        1\n",
      "1   -1.121683 -0.733852        0\n",
      "2   -0.396477  1.595876        1\n",
      "3   -1.115781 -1.271241        0\n",
      "4    2.359334 -2.184819        1\n",
      "..        ...       ...      ...\n",
      "763  1.562085  1.923150        0\n",
      "764 -0.100405 -0.614181        0\n",
      "765 -0.283475  0.097065        0\n",
      "766 -1.060324  0.837062        1\n",
      "767 -0.839892 -1.151755        0\n",
      "\n",
      "[768 rows x 3 columns]\n"
     ]
    }
   ],
   "source": [
    "# Print the result\n",
    "print(final_df)"
   ]
  },
  {
   "cell_type": "code",
   "execution_count": null,
   "id": "7cfa9f47",
   "metadata": {},
   "outputs": [],
   "source": []
  }
 ],
 "metadata": {
  "kernelspec": {
   "display_name": "Python 3 (ipykernel)",
   "language": "python",
   "name": "python3"
  },
  "language_info": {
   "codemirror_mode": {
    "name": "ipython",
    "version": 3
   },
   "file_extension": ".py",
   "mimetype": "text/x-python",
   "name": "python",
   "nbconvert_exporter": "python",
   "pygments_lexer": "ipython3",
   "version": "3.11.1"
  }
 },
 "nbformat": 4,
 "nbformat_minor": 5
}
